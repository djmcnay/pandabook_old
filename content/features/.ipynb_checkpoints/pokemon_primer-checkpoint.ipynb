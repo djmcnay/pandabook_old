{
 "cells": [
  {
   "cell_type": "markdown",
   "metadata": {},
   "source": [
    "# Primer for the Pokemon Fair Value bond model\n",
    "\n",
    "The intuition behind the model presented here is relatively simple - the *\"Fair Value\"* of a long dated bond should be a function of short-term interest rates, expectation of future inflation and some measure of growth. Additionally as capital allocation becomes increasing global it is reasonable that our *\"Fair Value\"* should include a global factor.\n",
    "\n",
    "Formally:\n",
    "$ FV_{x} = \\beta_{x,0} \n",
    "+\\beta_{x,1}\\times \\text{Short-Rate} \n",
    "+\\beta_{x,2} \\times \\text{Inflation}\n",
    "+\\beta_{x,3} \\times \\text{Growth}\n",
    "+\\beta_{x,4}\\times \\text{Global}\n",
    "+\\epsilon_{x}$\n",
    "\n"
   ]
  },
  {
   "cell_type": "markdown",
   "metadata": {},
   "source": [
    "## Current Fair Value"
   ]
  },
  {
   "cell_type": "markdown",
   "metadata": {},
   "source": [
    "## Python Code\n",
    "\n",
    "Where the Pokemon FV model has been used elsewhere in the chartbook it is pre-coded into "
   ]
  },
  {
   "cell_type": "code",
   "execution_count": null,
   "metadata": {},
   "outputs": [],
   "source": []
  },
  {
   "cell_type": "markdown",
   "metadata": {},
   "source": [
    "## Small Print\n",
    "\n",
    "It should come as no surprise that the concept presented here is not new. Any CFA candidate who has has been even vaguely dilligent should recognise the basis. [NDR](https://www.ndr.com/group/ndr/content-viewer/-/v/B0410A) do some excellent modelling and often present a simplified version and [Goldman Sachs Research](https://research.gs.com/) have been incorporating a [forward looking Sudoku Fair Value](http://www.verstyuk.net/papers/GlobalViewpoint.07-24.pdf) model in their Fixed Income research since 2007; the GS model is probably superior as they take more time developing a trade-weighted variable for the *\"Global\"* factor.\n",
    "\n",
    "Pokemon is indeed a nod to the childrens cartoon series. The point at which the model was developed happened to coincide with the Pokemon Go phenomenon in the UK during which time several PMs and Analysts were found wondering Green Park in London in search of Pokemon."
   ]
  },
  {
   "cell_type": "code",
   "execution_count": null,
   "metadata": {},
   "outputs": [],
   "source": []
  }
 ],
 "metadata": {
  "kernelspec": {
   "display_name": "Python 3",
   "language": "python",
   "name": "python3"
  },
  "language_info": {
   "codemirror_mode": {
    "name": "ipython",
    "version": 3
   },
   "file_extension": ".py",
   "mimetype": "text/x-python",
   "name": "python",
   "nbconvert_exporter": "python",
   "pygments_lexer": "ipython3",
   "version": "3.7.3"
  }
 },
 "nbformat": 4,
 "nbformat_minor": 2
}
